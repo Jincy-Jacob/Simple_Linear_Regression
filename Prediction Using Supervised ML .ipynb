{
 "cells": [
  {
   "cell_type": "markdown",
   "id": "d6edc6e7",
   "metadata": {},
   "source": [
    "# Author : Jincy Jacob\n"
   ]
  },
  {
   "cell_type": "markdown",
   "id": "2088eb81",
   "metadata": {},
   "source": [
    "## TASK 1: Prediction Using Supervised ML\n",
    "\n"
   ]
  },
  {
   "cell_type": "markdown",
   "id": "9ecbe00a",
   "metadata": {},
   "source": [
    "## In this regression task we predict the percentage of marks of student based on the number of study hours.\n",
    "### This is a simple linear regression task as it involves only two variables"
   ]
  },
  {
   "cell_type": "code",
   "execution_count": 1,
   "id": "8aa0d582",
   "metadata": {},
   "outputs": [],
   "source": [
    "# Importing the required libraries\n",
    "from sklearn.model_selection import train_test_split\n",
    "from sklearn.linear_model import LinearRegression\n",
    "import matplotlib.pyplot as plt\n",
    "import numpy as np \n",
    "import pandas as pd"
   ]
  },
  {
   "cell_type": "markdown",
   "id": "1d96303d",
   "metadata": {},
   "source": [
    "## STEP1 - Reading the data set"
   ]
  },
  {
   "cell_type": "code",
   "execution_count": 2,
   "id": "37fe04b8",
   "metadata": {},
   "outputs": [
    {
     "name": "stdout",
     "output_type": "stream",
     "text": [
      "Data imported\n"
     ]
    },
    {
     "data": {
      "text/html": [
       "<div>\n",
       "<style scoped>\n",
       "    .dataframe tbody tr th:only-of-type {\n",
       "        vertical-align: middle;\n",
       "    }\n",
       "\n",
       "    .dataframe tbody tr th {\n",
       "        vertical-align: top;\n",
       "    }\n",
       "\n",
       "    .dataframe thead th {\n",
       "        text-align: right;\n",
       "    }\n",
       "</style>\n",
       "<table border=\"1\" class=\"dataframe\">\n",
       "  <thead>\n",
       "    <tr style=\"text-align: right;\">\n",
       "      <th></th>\n",
       "      <th>Hours</th>\n",
       "      <th>Scores</th>\n",
       "    </tr>\n",
       "  </thead>\n",
       "  <tbody>\n",
       "    <tr>\n",
       "      <th>0</th>\n",
       "      <td>2.5</td>\n",
       "      <td>21</td>\n",
       "    </tr>\n",
       "    <tr>\n",
       "      <th>1</th>\n",
       "      <td>5.1</td>\n",
       "      <td>47</td>\n",
       "    </tr>\n",
       "    <tr>\n",
       "      <th>2</th>\n",
       "      <td>3.2</td>\n",
       "      <td>27</td>\n",
       "    </tr>\n",
       "    <tr>\n",
       "      <th>3</th>\n",
       "      <td>8.5</td>\n",
       "      <td>75</td>\n",
       "    </tr>\n",
       "    <tr>\n",
       "      <th>4</th>\n",
       "      <td>3.5</td>\n",
       "      <td>30</td>\n",
       "    </tr>\n",
       "    <tr>\n",
       "      <th>5</th>\n",
       "      <td>1.5</td>\n",
       "      <td>20</td>\n",
       "    </tr>\n",
       "    <tr>\n",
       "      <th>6</th>\n",
       "      <td>9.2</td>\n",
       "      <td>88</td>\n",
       "    </tr>\n",
       "    <tr>\n",
       "      <th>7</th>\n",
       "      <td>5.5</td>\n",
       "      <td>60</td>\n",
       "    </tr>\n",
       "    <tr>\n",
       "      <th>8</th>\n",
       "      <td>8.3</td>\n",
       "      <td>81</td>\n",
       "    </tr>\n",
       "    <tr>\n",
       "      <th>9</th>\n",
       "      <td>2.7</td>\n",
       "      <td>25</td>\n",
       "    </tr>\n",
       "  </tbody>\n",
       "</table>\n",
       "</div>"
      ],
      "text/plain": [
       "   Hours  Scores\n",
       "0    2.5      21\n",
       "1    5.1      47\n",
       "2    3.2      27\n",
       "3    8.5      75\n",
       "4    3.5      30\n",
       "5    1.5      20\n",
       "6    9.2      88\n",
       "7    5.5      60\n",
       "8    8.3      81\n",
       "9    2.7      25"
      ]
     },
     "execution_count": 2,
     "metadata": {},
     "output_type": "execute_result"
    }
   ],
   "source": [
    "ur = r\"https://raw.githubusercontent.com/AdiPersonalWorks/Random/master/student_scores%20-%20student_scores.csv\"\n",
    "s_data = pd.read_csv(ur)\n",
    "print(\"Data imported\")\n",
    "s_data.head(10)"
   ]
  },
  {
   "cell_type": "markdown",
   "id": "f426f617",
   "metadata": {},
   "source": [
    "## STEP 2 - Input data visualization"
   ]
  },
  {
   "cell_type": "code",
   "execution_count": 3,
   "id": "8f46c0a2",
   "metadata": {},
   "outputs": [
    {
     "data": {
      "text/plain": [
       "<function matplotlib.pyplot.show(close=None, block=None)>"
      ]
     },
     "execution_count": 3,
     "metadata": {},
     "output_type": "execute_result"
    },
    {
     "data": {
      "image/png": "[encoded data removed]",
      "text/plain": [
       "<Figure size 432x288 with 1 Axes>"
      ]
     },
     "metadata": {
      "needs_background": "light"
     },
     "output_type": "display_data"
    }
   ],
   "source": [
    "s_data.plot(x='Hours', y='Scores',style='o',color='green')\n",
    "plt.title('Hours vs Percentage')\n",
    "plt.xlabel('Hours studied')\n",
    "plt.ylabel('percentage score')\n",
    "plt.show"
   ]
  },
  {
   "cell_type": "markdown",
   "id": "20ea4618",
   "metadata": {},
   "source": [
    "#### The graph shows a positive linear relationship between hours studied and percentage of scores obtained."
   ]
  },
  {
   "cell_type": "markdown",
   "id": "1e3f2eca",
   "metadata": {},
   "source": [
    "## STEP 3 - Model training"
   ]
  },
  {
   "cell_type": "code",
   "execution_count": 4,
   "id": "04296b41",
   "metadata": {},
   "outputs": [
    {
     "name": "stdout",
     "output_type": "stream",
     "text": [
      "Training Done\n"
     ]
    }
   ],
   "source": [
    "x = s_data.iloc[:, :-1].values\n",
    "y = s_data.iloc[:, 1].values\n",
    "\n",
    "x_train, x_test, y_train, y_test = train_test_split(x, y, test_size=0.2, random_state=0)\n",
    "regg = LinearRegression()\n",
    "regg.fit(x_train.reshape(-1,1), y_train)\n",
    "print(\"Training Done\")\n",
    "\n"
   ]
  },
  {
   "cell_type": "markdown",
   "id": "6c818803",
   "metadata": {},
   "source": [
    "## STEP 4 - Plotting Line of regression"
   ]
  },
  {
   "cell_type": "markdown",
   "id": "eede314f",
   "metadata": {},
   "source": [
    "### Now our model is trained, it's time to visualize the best-fit line of regression"
   ]
  },
  {
   "cell_type": "code",
   "execution_count": 5,
   "id": "47b04948",
   "metadata": {},
   "outputs": [
    {
     "data": {
      "image/png": "[encoded data removed]",
      "text/plain": [
       "<Figure size 432x288 with 1 Axes>"
      ]
     },
     "metadata": {
      "needs_background": "light"
     },
     "output_type": "display_data"
    }
   ],
   "source": [
    "# Plotting the regression line\n",
    "line = regg.coef_*x+regg.intercept_\n",
    "\n",
    "# Plotting for the test data\n",
    "plt.scatter(x,y,color='green')\n",
    "plt.plot(x,line,color='red')\n",
    "plt.show()"
   ]
  },
  {
   "cell_type": "markdown",
   "id": "ca0060d9",
   "metadata": {},
   "source": [
    "## STEP 5 - Making predictions using test data set"
   ]
  },
  {
   "cell_type": "code",
   "execution_count": 6,
   "id": "8325d8b9",
   "metadata": {},
   "outputs": [
    {
     "name": "stdout",
     "output_type": "stream",
     "text": [
      "test data: [[1.5]\n",
      " [3.2]\n",
      " [7.4]\n",
      " [2.5]\n",
      " [5.9]]\n",
      "predicted value: [16.88414476 33.73226078 75.357018   26.79480124 60.49103328]\n"
     ]
    }
   ],
   "source": [
    "print(\"test data:\",x_test)\n",
    "y_pred = regg.predict(x_test)\n",
    "print(\"predicted value:\",y_pred)"
   ]
  },
  {
   "cell_type": "markdown",
   "id": "e0592633",
   "metadata": {},
   "source": [
    "## STEP 6 -  Comparing actual result to predicted result"
   ]
  },
  {
   "cell_type": "code",
   "execution_count": 7,
   "id": "ddab4211",
   "metadata": {},
   "outputs": [
    {
     "data": {
      "text/html": [
       "<div>\n",
       "<style scoped>\n",
       "    .dataframe tbody tr th:only-of-type {\n",
       "        vertical-align: middle;\n",
       "    }\n",
       "\n",
       "    .dataframe tbody tr th {\n",
       "        vertical-align: top;\n",
       "    }\n",
       "\n",
       "    .dataframe thead th {\n",
       "        text-align: right;\n",
       "    }\n",
       "</style>\n",
       "<table border=\"1\" class=\"dataframe\">\n",
       "  <thead>\n",
       "    <tr style=\"text-align: right;\">\n",
       "      <th></th>\n",
       "      <th>Actual</th>\n",
       "      <th>predicted</th>\n",
       "    </tr>\n",
       "  </thead>\n",
       "  <tbody>\n",
       "    <tr>\n",
       "      <th>0</th>\n",
       "      <td>20</td>\n",
       "      <td>16.884145</td>\n",
       "    </tr>\n",
       "    <tr>\n",
       "      <th>1</th>\n",
       "      <td>27</td>\n",
       "      <td>33.732261</td>\n",
       "    </tr>\n",
       "    <tr>\n",
       "      <th>2</th>\n",
       "      <td>69</td>\n",
       "      <td>75.357018</td>\n",
       "    </tr>\n",
       "    <tr>\n",
       "      <th>3</th>\n",
       "      <td>30</td>\n",
       "      <td>26.794801</td>\n",
       "    </tr>\n",
       "    <tr>\n",
       "      <th>4</th>\n",
       "      <td>62</td>\n",
       "      <td>60.491033</td>\n",
       "    </tr>\n",
       "  </tbody>\n",
       "</table>\n",
       "</div>"
      ],
      "text/plain": [
       "   Actual  predicted\n",
       "0      20  16.884145\n",
       "1      27  33.732261\n",
       "2      69  75.357018\n",
       "3      30  26.794801\n",
       "4      62  60.491033"
      ]
     },
     "execution_count": 7,
     "metadata": {},
     "output_type": "execute_result"
    }
   ],
   "source": [
    "# Comparing actual Vs predicted\n",
    "df = pd.DataFrame({'Actual':y_test,'predicted':y_pred})\n",
    "df"
   ]
  },
  {
   "cell_type": "code",
   "execution_count": 8,
   "id": "2dc1398c",
   "metadata": {},
   "outputs": [
    {
     "name": "stdout",
     "output_type": "stream",
     "text": [
      "Training score: 0.9515510725211552\n",
      "Test score: 0.9454906892105356\n"
     ]
    }
   ],
   "source": [
    "# Estimating training and test scores\n",
    "print('Training score:',regg.score(x_train,y_train))\n",
    "print('Test score:',regg.score(x_test,y_test))"
   ]
  },
  {
   "cell_type": "code",
   "execution_count": 9,
   "id": "20156675",
   "metadata": {},
   "outputs": [
    {
     "data": {
      "image/png": "[encoded data removed]",
      "text/plain": [
       "<Figure size 360x360 with 1 Axes>"
      ]
     },
     "metadata": {
      "needs_background": "light"
     },
     "output_type": "display_data"
    }
   ],
   "source": [
    "#  Plotting Bar graph to depict the difference between the actual and predicted value\n",
    "df.plot(kind='bar',figsize=(5,5))\n",
    "plt.grid(which='major',linewidth='0.5',color='red')\n",
    "plt.grid(which='minor',linewidth='0.5',color='blue')\n",
    "plt.show()"
   ]
  },
  {
   "cell_type": "code",
   "execution_count": 10,
   "id": "3d8ab1df",
   "metadata": {},
   "outputs": [
    {
     "name": "stdout",
     "output_type": "stream",
     "text": [
      "NO.of Hours= 9.25\n",
      "Predicted score= 93.69173248737538\n"
     ]
    }
   ],
   "source": [
    "# Testing the model with our own data\n",
    "hours= 9.25\n",
    "test = np.array([hours])\n",
    "Test = test.reshape(-1,1)\n",
    "our_pred = regg.predict(Test)\n",
    "print('NO.of Hours=',hours)\n",
    "print('Predicted score=',our_pred[0])"
   ]
  },
  {
   "cell_type": "markdown",
   "id": "622fd983",
   "metadata": {},
   "source": [
    "## STEP 7 - Evaluating the model"
   ]
  },
  {
   "cell_type": "markdown",
   "id": "57791c91",
   "metadata": {},
   "source": [
    "### Now we evaluate the performance of algorithm to compare how well our algorithm perform on a given data set. Here we compute different errors to compare the model performance and prediction accuracy."
   ]
  },
  {
   "cell_type": "code",
   "execution_count": 11,
   "id": "ddcb1c31",
   "metadata": {},
   "outputs": [
    {
     "name": "stdout",
     "output_type": "stream",
     "text": [
      "Mean Absolute Error =  4.183859899002975\n",
      "Mean Squared Error =  21.5987693072174\n",
      "Root Mean Square Error =  4.6474476121003665\n",
      "R-2 =  0.9454906892105356\n"
     ]
    }
   ],
   "source": [
    "from sklearn import metrics\n",
    "print('Mean Absolute Error = ',metrics.mean_absolute_error(y_test,y_pred))\n",
    "print('Mean Squared Error = ', metrics.mean_squared_error(y_test,y_pred))\n",
    "print('Root Mean Square Error = ',np.sqrt(metrics.mean_squared_error(y_test,y_pred)))\n",
    "print('R-2 = ',metrics.r2_score(y_test,y_pred))"
   ]
  },
  {
   "cell_type": "markdown",
   "id": "b6f1c5e4",
   "metadata": {},
   "source": [
    "#### R-2 gives the score of model fit. Here it is 0.9454906892105356 which is really good."
   ]
  },
  {
   "cell_type": "markdown",
   "id": "32b3376d",
   "metadata": {},
   "source": [
    "## CONCLUSION\n",
    "\n",
    "### I was successfully able to carry-out Prediction using Supervised ML and able to evaluate model's performance.\n",
    "\n",
    "## THANK YOU"
   ]
  },
  {
   "cell_type": "code",
   "execution_count": null,
   "id": "570edb55",
   "metadata": {},
   "outputs": [],
   "source": []
  }
 ],
 "metadata": {
  "kernelspec": {
   "display_name": "Python 3",
   "language": "python",
   "name": "python3"
  },
  "language_info": {
   "codemirror_mode": {
    "name": "ipython",
    "version": 3
   },
   "file_extension": ".py",
   "mimetype": "text/x-python",
   "name": "python",
   "nbconvert_exporter": "python",
   "pygments_lexer": "ipython3",
   "version": "3.8.8"
  }
 },
 "nbformat": 4,
 "nbformat_minor": 5
}
